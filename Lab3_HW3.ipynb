{
  "nbformat": 4,
  "nbformat_minor": 0,
  "metadata": {
    "colab": {
      "provenance": [],
      "authorship_tag": "ABX9TyOFefIZ4ZXckZJvcFZbKXu3",
      "include_colab_link": true
    },
    "kernelspec": {
      "name": "python3",
      "display_name": "Python 3"
    },
    "language_info": {
      "name": "python"
    }
  },
  "cells": [
    {
      "cell_type": "markdown",
      "metadata": {
        "id": "view-in-github",
        "colab_type": "text"
      },
      "source": [
        "<a href=\"https://colab.research.google.com/github/Wuthichat/Lab_python/blob/main/Lab3_HW3.ipynb\" target=\"_parent\"><img src=\"https://colab.research.google.com/assets/colab-badge.svg\" alt=\"Open In Colab\"/></a>"
      ]
    },
    {
      "cell_type": "code",
      "execution_count": 42,
      "metadata": {
        "colab": {
          "base_uri": "https://localhost:8080/",
          "height": 162
        },
        "id": "h8dEgcxnPXs_",
        "outputId": "419cc5e3-d4e8-4e13-de56-4215d65788f6"
      },
      "outputs": [
        {
          "output_type": "stream",
          "name": "stdout",
          "text": [
            "MeanValue :  0.014144192620780769\n",
            "VarValue :  2.0031937902257497\n",
            "P > -2 :  0.84132\n",
            "P < 2 :  0.84036\n",
            "Probability :  0.0009599999999999609\n"
          ]
        },
        {
          "output_type": "execute_result",
          "data": {
            "text/plain": [
              "\"\\nplt.plot(n)\\nplt.ylabel('n_Normal')\\nplt.xlabel('k')\\nplt.show()\\n\\n\\nplt.hist(n, density=True, bins=40)\\nplt.ylabel('Probability')\\nplt.xlabel('n_normal')\\nplt.show()\\n\\n\""
            ],
            "application/vnd.google.colaboratory.intrinsic+json": {
              "type": "string"
            }
          },
          "metadata": {},
          "execution_count": 42
        }
      ],
      "source": [
        "''' ...... Ex6 Lab 3 ...... '''\n",
        "import numpy as np\n",
        "import matplotlib.pyplot as plt\n",
        "from matplotlib.pyplot import hist\n",
        "N = 25000\n",
        "n = np.random.normal(0,2,size=N)\n",
        "MeanValue = np.mean(n)\n",
        "VarValue = np.std(n)\n",
        "print(\"MeanValue : \",MeanValue)\n",
        "print(\"VarValue : \",VarValue)\n",
        "P1 = sum(n > -2)/N\n",
        "print(\"P > -2 : \",P1)\n",
        "P2 = sum(n < 2)/N\n",
        "print(\"P < 2 : \",P2)\n",
        "print(\"Probability : \",P1-P2)\n",
        "\n",
        "'''\n",
        "plt.plot(n)\n",
        "plt.ylabel('n_Normal')\n",
        "plt.xlabel('k')\n",
        "plt.show()\n",
        "\n",
        "\n",
        "plt.hist(n, density=True, bins=40)\n",
        "plt.ylabel('Probability')\n",
        "plt.xlabel('n_normal')\n",
        "plt.show()\n",
        "\n",
        "'''\n"
      ]
    }
  ]
}